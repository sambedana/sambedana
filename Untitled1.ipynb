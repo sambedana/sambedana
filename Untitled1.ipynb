{
  "nbformat": 4,
  "nbformat_minor": 0,
  "metadata": {
    "colab": {
      "provenance": [],
      "authorship_tag": "ABX9TyOtFq4gD1C4Y/c6bn7XQAPY",
      "include_colab_link": true
    },
    "kernelspec": {
      "name": "python3",
      "display_name": "Python 3"
    },
    "language_info": {
      "name": "python"
    }
  },
  "cells": [
    {
      "cell_type": "markdown",
      "metadata": {
        "id": "view-in-github",
        "colab_type": "text"
      },
      "source": [
        "<a href=\"https://colab.research.google.com/github/sambedana/sambedana/blob/main/Untitled1.ipynb\" target=\"_parent\"><img src=\"https://colab.research.google.com/assets/colab-badge.svg\" alt=\"Open In Colab\"/></a>"
      ]
    },
    {
      "cell_type": "code",
      "execution_count": null,
      "metadata": {
        "colab": {
          "base_uri": "https://localhost:8080/"
        },
        "id": "QVKiLQFsdktM",
        "outputId": "317604a2-6325-4299-db69-716fe5b16fa7"
      },
      "outputs": [
        {
          "output_type": "stream",
          "name": "stdout",
          "text": [
            "9\n"
          ]
        }
      ],
      "source": [
        "class student:\n",
        "  def CalculatePower(self,no,po):\n",
        "   return no**po\n",
        "obj=student()\n",
        "print(obj.CalculatePower(3,2))"
      ]
    },
    {
      "cell_type": "code",
      "source": [
        "class perfectSq:\n",
        "  def perfects(self,n):\n",
        "    r=n%10\n",
        "    if(r*r==n):\n",
        "      return \"perfect square\"\n",
        "    else:\n",
        "      return \"not perfect square\"\n",
        "obj=perfectSq()\n",
        "n=int(input(\"number:\"))\n",
        "print(obj.perfects(n))\n",
        "\n",
        "\n"
      ],
      "metadata": {
        "colab": {
          "base_uri": "https://localhost:8080/"
        },
        "id": "hKec763diGhE",
        "outputId": "9734af96-ead4-461a-c572-61ef0f632124"
      },
      "execution_count": null,
      "outputs": [
        {
          "output_type": "stream",
          "name": "stdout",
          "text": [
            "number:45\n",
            "not perfect square\n"
          ]
        }
      ]
    },
    {
      "cell_type": "code",
      "source": [
        "class A:\n",
        "  def dA(self):\n",
        "    print(\"parent class\")\n",
        "class B(A):\n",
        "  def dB(self):\n",
        "    print(\"child class\")\n",
        "obj=B()\n",
        "obj.dA()\n",
        "obj.dB()"
      ],
      "metadata": {
        "colab": {
          "base_uri": "https://localhost:8080/"
        },
        "id": "Z_wpxKCTpSyW",
        "outputId": "4ca398f4-966f-4a36-8354-5499efdbf5c3"
      },
      "execution_count": null,
      "outputs": [
        {
          "output_type": "stream",
          "name": "stdout",
          "text": [
            "parent class\n",
            "child class\n"
          ]
        }
      ]
    },
    {
      "cell_type": "code",
      "source": [
        "class A:\n",
        "  def dA(self):\n",
        "    print(\"Grand parent\")\n",
        "class B(A):\n",
        "  def dB(self):\n",
        "    print(\"parent\")\n",
        "class C(B):\n",
        "  def dC(self):\n",
        "    print(\"child\")\n",
        "obj=C()\n",
        "obj.dA()\n",
        "obj.dB()\n",
        "obj.dC()"
      ],
      "metadata": {
        "colab": {
          "base_uri": "https://localhost:8080/"
        },
        "id": "7XInyxpMspkK",
        "outputId": "0640c54d-ea6f-4c00-c637-d5523c8dd76f"
      },
      "execution_count": null,
      "outputs": [
        {
          "output_type": "stream",
          "name": "stdout",
          "text": [
            "Grand parent\n",
            "parent\n",
            "child\n"
          ]
        }
      ]
    },
    {
      "cell_type": "code",
      "source": [
        "class A:\n",
        "  def dA(self):\n",
        "    print(\"Grand parent\")\n",
        "class B(A):\n",
        "  def dB(self):\n",
        "    print(\"parent\")\n",
        "class C(B):\n",
        "  def dC(self):\n",
        "    print(\"child\")\n",
        "obj=C()\n",
        "obj.dA()\n",
        "obj.dB()\n",
        "obj.dC()"
      ],
      "metadata": {
        "id": "_r18SCibuIHj"
      },
      "execution_count": null,
      "outputs": []
    },
    {
      "cell_type": "code",
      "source": [
        "class student:\n",
        "  def disp(self,roll,name):\n",
        "    print(roll,name)\n",
        "  def disp(self):\n",
        "    print(\"WELCOME\")\n",
        "obj=student()\n",
        "obj.disp()\n"
      ],
      "metadata": {
        "colab": {
          "base_uri": "https://localhost:8080/"
        },
        "id": "rx0gRd9Vv6zG",
        "outputId": "1965d466-ac6c-4cbe-991b-c63f58e07c8f"
      },
      "execution_count": null,
      "outputs": [
        {
          "output_type": "stream",
          "name": "stdout",
          "text": [
            "WELCOME\n"
          ]
        }
      ]
    },
    {
      "cell_type": "code",
      "source": [
        "class parent:\n",
        "  def myMethod(self):\n",
        "    print(\"calling parent method\")\n",
        "class child(parent):\n",
        "  def myMethod(self):\n",
        "    print(\"calling child method\")\n",
        "c=child()\n",
        "c.myMethod()\n",
        "p=parent()\n",
        "p.myMethod()"
      ],
      "metadata": {
        "colab": {
          "base_uri": "https://localhost:8080/"
        },
        "id": "Ucl4kCUvw-RU",
        "outputId": "9962515d-96a8-4550-fd2d-83fb17397bae"
      },
      "execution_count": null,
      "outputs": [
        {
          "output_type": "stream",
          "name": "stdout",
          "text": [
            "calling child method\n",
            "calling parent method\n"
          ]
        }
      ]
    },
    {
      "cell_type": "code",
      "source": [
        "import numpy as np\n",
        "arr=np.array([1,2,3,4,5])\n",
        "print(arr)"
      ],
      "metadata": {
        "colab": {
          "base_uri": "https://localhost:8080/"
        },
        "id": "3Im30oVD0QFA",
        "outputId": "c2fc37f3-f8b9-4b9c-dcca-b60335b7456a"
      },
      "execution_count": null,
      "outputs": [
        {
          "output_type": "stream",
          "name": "stdout",
          "text": [
            "[1 2 3 4 5]\n"
          ]
        }
      ]
    },
    {
      "cell_type": "code",
      "source": [
        "import numpy as np\n",
        "arr=np.array(42)\n",
        "print(arr)"
      ],
      "metadata": {
        "colab": {
          "base_uri": "https://localhost:8080/"
        },
        "id": "LefS1nrg01Ft",
        "outputId": "9c363567-e36e-4ef7-b535-0ac627890f1b"
      },
      "execution_count": null,
      "outputs": [
        {
          "output_type": "stream",
          "name": "stdout",
          "text": [
            "42\n"
          ]
        }
      ]
    },
    {
      "cell_type": "code",
      "source": [
        "import numpy as np\n",
        "arr=np.array([[1,2,3],[4,5,6]])\n",
        "print(arr+10)"
      ],
      "metadata": {
        "colab": {
          "base_uri": "https://localhost:8080/"
        },
        "id": "fO9QYaqQ1rIJ",
        "outputId": "e5eb7bc0-8129-4a35-878c-a88c8901c87e"
      },
      "execution_count": null,
      "outputs": [
        {
          "output_type": "stream",
          "name": "stdout",
          "text": [
            "[[11 12 13]\n",
            " [14 15 16]]\n"
          ]
        }
      ]
    },
    {
      "cell_type": "code",
      "source": [
        "import numpy\n",
        "list = [10,20,30,40,50]\n",
        "a=numpy.array(list)\n",
        "print(a)"
      ],
      "metadata": {
        "colab": {
          "base_uri": "https://localhost:8080/"
        },
        "id": "LUW2-F5u4pHd",
        "outputId": "0ea78844-caf2-4799-a0d6-056a889cc104"
      },
      "execution_count": null,
      "outputs": [
        {
          "output_type": "stream",
          "name": "stdout",
          "text": [
            "[10 20 30 40 50]\n"
          ]
        }
      ]
    },
    {
      "cell_type": "code",
      "source": [
        "import numpy\n",
        "a=numpy.array([10,20,30,40,50])\n",
        "print(a)"
      ],
      "metadata": {
        "colab": {
          "base_uri": "https://localhost:8080/"
        },
        "id": "o1yY_xu446Yx",
        "outputId": "9dff788d-9007-4eef-d8f2-07f741cfd746"
      },
      "execution_count": null,
      "outputs": [
        {
          "output_type": "stream",
          "name": "stdout",
          "text": [
            "[10 20 30 40 50]\n"
          ]
        }
      ]
    },
    {
      "cell_type": "code",
      "source": [
        "import numpy as np\n",
        "list1=[0,1,2,3,4]\n",
        "list1=list1+2"
      ],
      "metadata": {
        "colab": {
          "base_uri": "https://localhost:8080/",
          "height": 201
        },
        "id": "OFLIFzKx5T6C",
        "outputId": "39702ed6-a905-4b56-874c-8ab7340d758c"
      },
      "execution_count": null,
      "outputs": [
        {
          "output_type": "error",
          "ename": "TypeError",
          "evalue": "ignored",
          "traceback": [
            "\u001b[0;31m---------------------------------------------------------------------------\u001b[0m",
            "\u001b[0;31mTypeError\u001b[0m                                 Traceback (most recent call last)",
            "\u001b[0;32m<ipython-input-23-4262a609bc77>\u001b[0m in \u001b[0;36m<cell line: 3>\u001b[0;34m()\u001b[0m\n\u001b[1;32m      1\u001b[0m \u001b[0;32mimport\u001b[0m \u001b[0mnumpy\u001b[0m \u001b[0;32mas\u001b[0m \u001b[0mnp\u001b[0m\u001b[0;34m\u001b[0m\u001b[0;34m\u001b[0m\u001b[0m\n\u001b[1;32m      2\u001b[0m \u001b[0mlist1\u001b[0m\u001b[0;34m=\u001b[0m\u001b[0;34m[\u001b[0m\u001b[0;36m0\u001b[0m\u001b[0;34m,\u001b[0m\u001b[0;36m1\u001b[0m\u001b[0;34m,\u001b[0m\u001b[0;36m2\u001b[0m\u001b[0;34m,\u001b[0m\u001b[0;36m3\u001b[0m\u001b[0;34m,\u001b[0m\u001b[0;36m4\u001b[0m\u001b[0;34m]\u001b[0m\u001b[0;34m\u001b[0m\u001b[0;34m\u001b[0m\u001b[0m\n\u001b[0;32m----> 3\u001b[0;31m \u001b[0mlist1\u001b[0m\u001b[0;34m=\u001b[0m\u001b[0mlist1\u001b[0m\u001b[0;34m+\u001b[0m\u001b[0;36m2\u001b[0m\u001b[0;34m\u001b[0m\u001b[0;34m\u001b[0m\u001b[0m\n\u001b[0m",
            "\u001b[0;31mTypeError\u001b[0m: can only concatenate list (not \"int\") to list"
          ]
        }
      ]
    },
    {
      "cell_type": "code",
      "source": [
        "import numpy as np\n",
        "list1=[0,1,2,3,4]\n",
        "arr=np.array(list1)\n",
        "print(arr)\n",
        "arr=arr+2\n",
        "print(arr)"
      ],
      "metadata": {
        "colab": {
          "base_uri": "https://localhost:8080/"
        },
        "id": "I9ctBNUD09DT",
        "outputId": "084ec3d6-a032-4dfd-b3f1-267c3b17b3bc"
      },
      "execution_count": null,
      "outputs": [
        {
          "output_type": "stream",
          "name": "stdout",
          "text": [
            "[0 1 2 3 4]\n",
            "[2 3 4 5 6]\n"
          ]
        }
      ]
    },
    {
      "cell_type": "code",
      "source": [
        "import numpy as np\n",
        "list2 = [[0,1,2],[3,4,5],[6,7,8]]\n",
        "arr3=np.array(list2,dtype='str')\n",
        "print(arr3)"
      ],
      "metadata": {
        "colab": {
          "base_uri": "https://localhost:8080/"
        },
        "id": "Txvesrmw6bru",
        "outputId": "9c3f4f33-9c1c-417d-d144-9f2757addf13"
      },
      "execution_count": null,
      "outputs": [
        {
          "output_type": "stream",
          "name": "stdout",
          "text": [
            "[['0' '1' '2']\n",
            " ['3' '4' '5']\n",
            " ['6' '7' '8']]\n"
          ]
        }
      ]
    },
    {
      "cell_type": "code",
      "source": [
        "import numpy as np\n",
        "list2 = [[0,1,2],[3,4,5],[6,7,8]]\n",
        "arr3=np.array(list2,dtype='float')\n",
        "print(arr3)\n",
        "arr3_s = arr3.astype('int').astype('str')\n",
        "print(arr3_s)"
      ],
      "metadata": {
        "colab": {
          "base_uri": "https://localhost:8080/"
        },
        "id": "I7dppzlw7KZx",
        "outputId": "b54558b7-1755-4fc7-d77e-908ceb1f4c49"
      },
      "execution_count": null,
      "outputs": [
        {
          "output_type": "stream",
          "name": "stdout",
          "text": [
            "[[0. 1. 2.]\n",
            " [3. 4. 5.]\n",
            " [6. 7. 8.]]\n",
            "[['0' '1' '2']\n",
            " ['3' '4' '5']\n",
            " ['6' '7' '8']]\n"
          ]
        }
      ]
    },
    {
      "cell_type": "code",
      "source": [
        "arr_obj = np.array([1,'a'],dtype='object')\n",
        "print(arr_obj)"
      ],
      "metadata": {
        "colab": {
          "base_uri": "https://localhost:8080/"
        },
        "id": "DI-O5wIG7jIN",
        "outputId": "44a78b8a-9fec-455c-bf9c-6c6b6fc9e21d"
      },
      "execution_count": null,
      "outputs": [
        {
          "output_type": "stream",
          "name": "stdout",
          "text": [
            "[1 'a']\n"
          ]
        }
      ]
    }
  ]
}